{
 "cells": [
  {
   "cell_type": "code",
   "execution_count": 1,
   "metadata": {},
   "outputs": [
    {
     "name": "stdout",
     "output_type": "stream",
     "text": [
      "/home/thomas/Programs/anaconda3/envs/ctools_p3/share/caldb\n"
     ]
    }
   ],
   "source": [
    "import os\n",
    "import glob\n",
    "import pandas as pd\n",
    "from astropy.table import Table\n",
    "\n",
    "try:\n",
    "    caldb_path = os.environ['CALDB']\n",
    "    print(caldb_path)\n",
    "except KeyError:\n",
    "    print(\"activate ctools environment!!!\")\n",
    "\n",
    "path_cta = caldb_path+\"/data/cta/\"\n",
    "irf_folder_list = os.listdir(path_cta)"
   ]
  },
  {
   "cell_type": "code",
   "execution_count": 2,
   "metadata": {},
   "outputs": [],
   "source": [
    "try:\n",
    "    prod3b = os.listdir(path_cta + \"prod3b/bcf/\")\n",
    "except:\n",
    "    print(\"prod3b not present...not a big deal as long as you have one set of IRF\")\n",
    "\n",
    "try:\n",
    "    prod3b_v1 = os.listdir(path_cta + \"prod3b-v1/bcf/\")    \n",
    "except:\n",
    "    print(\"prod3b_v1 are not present...not a big deal as long as you have one set of IRF\")\n",
    "\n",
    "try:\n",
    "    prod3b_v2 = os.listdir(path_cta + \"prod3b-v2/bcf/\")\n",
    "except:\n",
    "    print(\"prod3b_v2 are not present...not a big deal as long as you have one set of IRF\")\n"
   ]
  },
  {
   "cell_type": "code",
   "execution_count": 3,
   "metadata": {},
   "outputs": [],
   "source": [
    "d = pd.DataFrame(index=prod3b_v1, columns=[\"site\", \"zenith\", \"pointing\", \"time\", \"name\"])\n",
    "d['name'] = prod3b_v1\n",
    "\n",
    "for irf in prod3b_v1:\n",
    "    split_list = irf.split(\"_\")\n",
    "    d.loc[irf]['site'] = split_list[0]\n",
    "    d.loc[irf]['zenith'] = split_list[1][1:]\n",
    "    d.loc[irf]['pointing'] = split_list[2]\n",
    "    d.loc[irf]['time'] = split_list[-1]\n",
    "\n",
    "t = Table.from_pandas(d)\n",
    "t.write('irf_fits/prod3b-v1.fits')"
   ]
  },
  {
   "cell_type": "code",
   "execution_count": 4,
   "metadata": {},
   "outputs": [],
   "source": [
    "d = pd.DataFrame(index=prod3b_v2, columns=[\"site\", \"zenith\", \"pointing\", \"time\", \"name\"])\n",
    "d['name'] = prod3b_v2\n",
    "\n",
    "for irf in prod3b_v2:\n",
    "    split_list = irf.split(\"_\")\n",
    "    d.loc[irf]['site'] = split_list[0]\n",
    "    d.loc[irf]['zenith'] = split_list[1][1:]\n",
    "    d.loc[irf]['pointing'] = split_list[2]\n",
    "    d.loc[irf]['time'] = split_list[-1]\n",
    "\n",
    "    if split_list[2] == \"N\":\n",
    "        d.loc[irf]['pointing'] = \"N\"\n",
    "    elif split_list[2] == \"S\":\n",
    "        d.loc[irf]['pointing'] = \"S\"\n",
    "    else:\n",
    "        d.loc[irf]['pointing'] = \"average\"\n",
    "\n",
    "t = Table.from_pandas(d)\n",
    "t.write('irf_fits/prod3b-v2.fits', overwrite=True)"
   ]
  },
  {
   "cell_type": "code",
   "execution_count": 5,
   "metadata": {},
   "outputs": [],
   "source": [
    "d = pd.DataFrame(index=prod3b, columns=[\"site\", \"zenith\", \"pointing\", \"TS\" , \"subarray\" , \"time\", \"name\"])\n",
    "d['name'] = prod3b\n",
    "\n",
    "for irf in prod3b:\n",
    "    split_list = irf.split(\"_\")\n",
    "    d.loc[irf]['site'] = split_list[0]\n",
    "    d.loc[irf]['zenith'] = split_list[1][1:]\n",
    "    d.loc[irf]['pointing'] = split_list[2]\n",
    "    d.loc[irf]['time'] = split_list[-1]\n",
    "    if split_list[3] == \"TS\":\n",
    "        d.loc[irf]['TS'] = \"1\"\n",
    "    else:\n",
    "        d.loc[irf]['TS'] = \"0\"\n",
    "    \n",
    "    if split_list[-2] == \"MSTSST\":\n",
    "        d.loc[irf]['subarray'] = \"MSTSST\"\n",
    "    elif split_list[-2] == \"MST\":\n",
    "        d.loc[irf]['subarray'] = \"MST\"\n",
    "    elif split_list[-2] == \"SST\":\n",
    "        d.loc[irf]['subarray'] = \"SST\"\n",
    "    elif split_list[-2] == \"LST\":\n",
    "        d.loc[irf]['subarray'] = \"LST\"\n",
    "    elif split_list[-2] == \"TS\":\n",
    "        d.loc[irf]['subarray'] = \"TS\"\n",
    "    else:\n",
    "        d.loc[irf]['subarray'] = \"FULL\"\n",
    "\n",
    "t = Table.from_pandas(d)\n",
    "t.write('irf_fits/prod3b.fits')"
   ]
  },
  {
   "cell_type": "code",
   "execution_count": null,
   "metadata": {},
   "outputs": [],
   "source": []
  }
 ],
 "metadata": {
  "kernelspec": {
   "display_name": "Python 3",
   "language": "python",
   "name": "python3"
  },
  "language_info": {
   "codemirror_mode": {
    "name": "ipython",
    "version": 3
   },
   "file_extension": ".py",
   "mimetype": "text/x-python",
   "name": "python",
   "nbconvert_exporter": "python",
   "pygments_lexer": "ipython3",
   "version": "3.6.8"
  }
 },
 "nbformat": 4,
 "nbformat_minor": 2
}
